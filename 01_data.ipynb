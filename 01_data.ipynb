{
 "cells": [
  {
   "cell_type": "markdown",
   "id": "6ad6909d-00fb-45d5-ab8e-ff33648bd6a0",
   "metadata": {},
   "source": [
    "# Pretraining on .py files"
   ]
  },
  {
   "cell_type": "code",
   "execution_count": 1,
   "id": "86871b90-fe77-4290-89ed-a5329c7f8d17",
   "metadata": {
    "tags": []
   },
   "outputs": [],
   "source": [
    "import random\n",
    "from git.repo import Repo\n",
    "from pathlib import Path\n",
    "from rich.markdown import Markdown"
   ]
  },
  {
   "cell_type": "markdown",
   "id": "93c4a3af-d593-4416-84ab-3538bfabf408",
   "metadata": {},
   "source": [
    "let's bring some text in"
   ]
  },
  {
   "cell_type": "code",
   "execution_count": 11,
   "id": "bdcb1a5b-ded3-4314-ac26-c43ba49152f4",
   "metadata": {
    "tags": []
   },
   "outputs": [],
   "source": [
    "vllm_path = Path(\"vllm/\")\n",
    "vllm_repo = Repo(vllm_path)"
   ]
  },
  {
   "cell_type": "code",
   "execution_count": 9,
   "id": "29d53b88-5f51-480f-8b70-e32ed1bfaa7f",
   "metadata": {
    "tags": []
   },
   "outputs": [
    {
     "name": "stdout",
     "output_type": "stream",
     "text": [
      "90979c38f87c17d53a7cd0eb430373ecb0b64b9a\n"
     ]
    }
   ],
   "source": [
    "# Get the latest commit\n",
    "last_commit = weave_repo.commit()\n",
    "\n",
    "# Print the commit message\n",
    "print(last_commit)"
   ]
  },
  {
   "cell_type": "markdown",
   "id": "7d707080-cca0-4341-91b8-a3786c5e8db5",
   "metadata": {},
   "source": [
    "Naively we can bring all MarkDown files"
   ]
  },
  {
   "cell_type": "code",
   "execution_count": 12,
   "id": "fbe2c9ed-3dc0-4a97-b54d-36133447d9cd",
   "metadata": {
    "tags": []
   },
   "outputs": [],
   "source": [
    "def find_files(directory, extension=\"*.py\"):\n",
    "    \"Find all files of a given `extension` in a directory and return their content and path\"\n",
    "    md_files = []\n",
    "    for file in Path(directory).rglob(extension):\n",
    "        with open(file, 'r', encoding='utf-8') as md_file:\n",
    "            content = md_file.read()\n",
    "        md_files.append((file.relative_to(directory), content))\n",
    "    return md_files"
   ]
  },
  {
   "cell_type": "code",
   "execution_count": 13,
   "id": "97cdd38b-f6c2-477e-b5d4-d1eed6d98fd9",
   "metadata": {
    "tags": []
   },
   "outputs": [
    {
     "name": "stdout",
     "output_type": "stream",
     "text": [
      "# coding=utf-8\n",
      "# Adapted from\n",
      "# https://github.com/huggingface/transformers/blob/v4.28.0/src/transformers/models/gpt2/modeling_gpt2.py\n",
      "# Copyright 2023 The vLLM team.\n",
      "# Copyright 2023 CTranslate2, and Michael Feil\n",
      "# Copyright 2018 The OpenAI Team Authors and HuggingFace Inc. team.\n",
      "# Copyright (c) 2018, NVIDIA CORPORATION.  All rights reserved.\n",
      "#\n",
      "# Licensed under the Apache License, Version 2.0 (the \"License\");\n",
      "# you may not use this file except in compliance with the License.\n",
      "# You may obtain a \n"
     ]
    },
    {
     "data": {
      "text/plain": [
       "(96, None)"
      ]
     },
     "execution_count": 13,
     "metadata": {},
     "output_type": "execute_result"
    }
   ],
   "source": [
    "py_files = find_files(vllm_path)\n",
    "\n",
    "file = random.choice(py_files)\n",
    "\n",
    "len(py_files), print(file[1][0:500])"
   ]
  },
  {
   "cell_type": "markdown",
   "id": "79897931-ddac-4423-b34e-f204fd824994",
   "metadata": {},
   "source": [
    "We should stack the file with some metadata, for instance, the path where the files is coming from."
   ]
  },
  {
   "cell_type": "code",
   "execution_count": 14,
   "id": "b4e621d8-a3ce-4ef2-9520-8d41cc7ba98f",
   "metadata": {
    "tags": []
   },
   "outputs": [],
   "source": [
    "def stuff(file):\n",
    "    path, content = file\n",
    "    return f\"<<Begin file>>\\nPath:\\n{path}\\n---------\\nContent:\\n{content}<<End File>>\""
   ]
  },
  {
   "cell_type": "code",
   "execution_count": 15,
   "id": "95db238a-6479-46d2-917e-a3316559c0cc",
   "metadata": {
    "tags": []
   },
   "outputs": [
    {
     "name": "stdout",
     "output_type": "stream",
     "text": [
      "<<Begin file>>\n",
      "Path:\n",
      "vllm/model_executor/models/gpt_bigcode.py\n",
      "---------\n",
      "Content:\n",
      "# coding=utf-8\n",
      "# Adapted from\n",
      "# https://github.com/huggingface/transformers/blob/v4.28.0/src/transformers/models/gpt2/modeling_gpt2.py\n",
      "# Copyright 2023 The vLLM team.\n",
      "# Copyright 2023 CTranslate2, and Michael Feil\n",
      "# Copyright 2018 The OpenAI Team Authors and HuggingFace Inc. team.\n",
      "# Copyright (c) 2018, NVIDIA CORPORATION.  All rights reserved.\n",
      "#\n",
      "# Licensed under the Apache License, Version 2.0 (the \"License\");\n",
      "# you may not use this file except in compliance with the License.\n",
      "# You may obtain a copy of the License at\n",
      "#\n",
      "#     http://www.apache.org/licenses/LICENSE-2.0\n",
      "#\n",
      "# Unless required by applicable law or agreed to in writing, software\n",
      "# distributed under the License is distributed on an \"AS IS\" BASIS,\n",
      "# WITHOUT WARRANTIES OR CONDITIONS OF ANY KIND, either express or implied.\n",
      "# See the License for the specific language governing permissions and\n",
      "# limitations under the License.\n",
      "\"\"\"Inference-only GPTBigCode model compatible with HuggingFace weights.\n",
      "\n",
      "The input of the model is flattened to a 1D tensor of tokens. The model uses\n",
      "InputMetadata to extract the original 2D shape of the input.\n",
      "\"\"\"\n",
      "from typing import List, Optional, Tuple\n",
      "\n",
      "import torch\n",
      "from torch import nn\n",
      "from transformers import GPTBigCodeConfig\n",
      "\n",
      "from vllm.model_executor.input_metadata import InputMetadata\n",
      "from vllm.model_executor.layers.activation import get_act_fn\n",
      "from vllm.model_executor.layers.attention import PagedAttention\n",
      "from vllm.model_executor.layers.sampler import Sampler\n",
      "from vllm.model_executor.weight_utils import (\n",
      "    convert_pyslice_to_tensor, hf_model_weights_iterator,\n",
      "    load_padded_tensor_parallel_vocab, load_tensor_parallel_weights)\n",
      "from vllm.model_executor.parallel_utils.parallel_state import (\n",
      "    get_tensor_model_parallel_rank, get_tensor_model_parallel_world_size)\n",
      "from vllm.model_executor.parallel_utils.tensor_parallel import (\n",
      "    VocabParallelEmbedding, ColumnParallelLinear, RowParallelLinear)\n",
      "from vllm.sequence import SamplerOutput\n",
      "\n",
      "KVCache = Tuple[torch.Tensor, torch.Tensor]\n",
      "\n",
      "\n",
      "class GPTBigCodeAttention(nn.Module):\n",
      "\n",
      "    def __init__(self, config: GPTBigCodeConfig):\n",
      "        super().__init__()\n",
      "        self.hidden_size = config.hidden_size\n",
      "        total_num_heads = config.num_attention_heads\n",
      "        self.tensor_model_parallel_world_size = (\n",
      "            get_tensor_model_parallel_world_size())\n",
      "        assert total_num_heads % self.tensor_model_parallel_world_size == 0\n",
      "        self.num_heads = (total_num_heads //\n",
      "                          self.tensor_model_parallel_world_size)\n",
      "        self.head_dim = self.hidden_size // total_num_heads\n",
      "        self.scale = self.head_dim**-0.5\n",
      "\n",
      "        self.multi_query = config.multi_query\n",
      "        if self.multi_query:\n",
      "            self.num_kv_heads = 1\n",
      "            self.kv_dim = self.head_dim\n",
      "            self.c_attn_q = ColumnParallelLinear(self.hidden_size,\n",
      "                                                 self.hidden_size,\n",
      "                                                 bias=True,\n",
      "                                                 gather_output=False,\n",
      "                                                 perform_initialization=False)\n",
      "            self.c_attn_kv = nn.Linear(self.hidden_size,\n",
      "                                       2 * self.kv_dim,\n",
      "                                       bias=True)\n",
      "        else:\n",
      "            self.num_kv_heads = self.num_heads\n",
      "            self.kv_dim = self.num_kv_heads * self.head_dim\n",
      "            self.c_attn = ColumnParallelLinear(self.hidden_size,\n",
      "                                               self.hidden_size +\n",
      "                                               2 * self.kv_dim,\n",
      "                                               bias=True,\n",
      "                                               gather_output=False,\n",
      "                                               perform_initialization=False)\n",
      "\n",
      "        self.c_proj = RowParallelLinear(self.hidden_size,\n",
      "                                        self.hidden_size,\n",
      "                                        bias=True,\n",
      "                                        input_is_parallel=True,\n",
      "                                        perform_initialization=False)\n",
      "        self.attn = PagedAttention(self.num_heads,\n",
      "                                   self.head_dim,\n",
      "                                   scale=self.scale,\n",
      "                                   num_kv_heads=self.num_kv_heads)\n",
      "\n",
      "    def forward(\n",
      "        self,\n",
      "        hidden_states: torch.Tensor,\n",
      "        kv_cache: KVCache,\n",
      "        input_metadata: InputMetadata,\n",
      "        cache_event: Optional[torch.cuda.Event],\n",
      "    ) -> torch.Tensor:\n",
      "        if self.multi_query:\n",
      "            q, _ = self.c_attn_q(hidden_states)\n",
      "            kv = self.c_attn_kv(hidden_states)\n",
      "            k, v = kv.split([self.kv_dim, self.kv_dim], dim=-1)\n",
      "        else:\n",
      "            qkv, _ = self.c_attn(hidden_states)\n",
      "            q, k, v = qkv.split([\n",
      "                self.hidden_size // self.tensor_model_parallel_world_size,\n",
      "                self.kv_dim, self.kv_dim\n",
      "            ],\n",
      "                                dim=-1)\n",
      "        key_cache, value_cache = kv_cache\n",
      "        attn_output = self.attn(q, k, v, key_cache, value_cache,\n",
      "                                input_metadata, cache_event)\n",
      "        attn_output, _ = self.c_proj(attn_output)\n",
      "        return attn_output\n",
      "\n",
      "\n",
      "class GPTBigMLP(nn.Module):\n",
      "\n",
      "    def __init__(\n",
      "        self,\n",
      "        intermediate_size: int,\n",
      "        config: GPTBigCodeConfig,\n",
      "    ):\n",
      "        super().__init__()\n",
      "        hidden_size = config.hidden_size\n",
      "        self.c_fc = ColumnParallelLinear(hidden_size,\n",
      "                                         intermediate_size,\n",
      "                                         bias=True,\n",
      "                                         gather_output=False,\n",
      "                                         perform_initialization=False)\n",
      "        self.c_proj = RowParallelLinear(intermediate_size,\n",
      "                                        hidden_size,\n",
      "                                        bias=True,\n",
      "                                        input_is_parallel=True,\n",
      "                                        perform_initialization=False)\n",
      "        self.act = get_act_fn(config.activation_function)\n",
      "\n",
      "    def forward(self, hidden_states: torch.Tensor) -> torch.Tensor:\n",
      "        hidden_states, _ = self.c_fc(hidden_states)\n",
      "        hidden_states = self.act(hidden_states)\n",
      "        hidden_states, _ = self.c_proj(hidden_states)\n",
      "        return hidden_states\n",
      "\n",
      "\n",
      "class GPTBigCodeBlock(nn.Module):\n",
      "\n",
      "    def __init__(self, config: GPTBigCodeConfig):\n",
      "        super().__init__()\n",
      "        hidden_size = config.hidden_size\n",
      "        inner_dim = (config.n_inner if config.n_inner is not None else 4 *\n",
      "                     hidden_size)\n",
      "\n",
      "        self.ln_1 = nn.LayerNorm(hidden_size, eps=config.layer_norm_epsilon)\n",
      "        self.attn = GPTBigCodeAttention(config)\n",
      "        self.ln_2 = nn.LayerNorm(hidden_size, eps=config.layer_norm_epsilon)\n",
      "        self.mlp = GPTBigMLP(inner_dim, config)\n",
      "\n",
      "    def forward(\n",
      "        self,\n",
      "        hidden_states: torch.Tensor,\n",
      "        kv_cache: KVCache,\n",
      "        input_metadata: InputMetadata,\n",
      "        cache_event: Optional[torch.cuda.Event],\n",
      "    ) -> torch.Tensor:\n",
      "        residual = hidden_states\n",
      "        hidden_states = self.ln_1(hidden_states)\n",
      "        attn_output = self.attn(\n",
      "            hidden_states=hidden_states,\n",
      "            kv_cache=kv_cache,\n",
      "            input_metadata=input_metadata,\n",
      "            cache_event=cache_event,\n",
      "        )\n",
      "        # residual connection\n",
      "        hidden_states = attn_output + residual\n",
      "\n",
      "        residual = hidden_states\n",
      "        hidden_states = self.ln_2(hidden_states)\n",
      "        feed_forward_hidden_states = self.mlp(hidden_states)\n",
      "        # residual connection\n",
      "        hidden_states = residual + feed_forward_hidden_states\n",
      "        return hidden_states\n",
      "\n",
      "\n",
      "class GPTBigCodeModel(nn.Module):\n",
      "\n",
      "    def __init__(self, config: GPTBigCodeConfig):\n",
      "        super().__init__()\n",
      "        self.config = config\n",
      "        assert not config.add_cross_attention\n",
      "\n",
      "        self.embed_dim = config.hidden_size\n",
      "\n",
      "        # Optimization: While the vocab size of GPT-2 is 50257, we extend it\n",
      "        # to 50304 in order to make it divisible by 64.\n",
      "        # This improves performance since GPUs are faster if the dimension\n",
      "        # is divisible by 64. In addition, it allows us to shard the embedding\n",
      "        # layer across 2, 4, 8, or more GPUs.\n",
      "        vocab_size = ((config.vocab_size + 63) // 64) * 64\n",
      "        self.wte = VocabParallelEmbedding(vocab_size, self.embed_dim)\n",
      "        self.wpe = nn.Embedding(config.max_position_embeddings, self.embed_dim)\n",
      "        self.h = nn.ModuleList(\n",
      "            [GPTBigCodeBlock(config) for _ in range(config.num_hidden_layers)])\n",
      "        self.ln_f = nn.LayerNorm(self.embed_dim, eps=config.layer_norm_epsilon)\n",
      "\n",
      "    def forward(\n",
      "        self,\n",
      "        input_ids: torch.Tensor,\n",
      "        position_ids: torch.Tensor,\n",
      "        kv_caches: List[KVCache],\n",
      "        input_metadata: InputMetadata,\n",
      "        cache_events: Optional[List[torch.cuda.Event]],\n",
      "    ) -> torch.Tensor:\n",
      "        inputs_embeds = self.wte(input_ids)\n",
      "        position_embeds = self.wpe(position_ids)\n",
      "        hidden_states = inputs_embeds + position_embeds\n",
      "\n",
      "        for i in range(len(self.h)):\n",
      "            if cache_events is None:\n",
      "                cache_event = None\n",
      "            else:\n",
      "                cache_event = cache_events[i]\n",
      "            layer = self.h[i]\n",
      "            hidden_states = layer(hidden_states, kv_caches[i], input_metadata,\n",
      "                                  cache_event)\n",
      "\n",
      "        hidden_states = self.ln_f(hidden_states)\n",
      "        return hidden_states\n",
      "\n",
      "\n",
      "class GPTBigCodeForCausalLM(nn.Module):\n",
      "\n",
      "    def __init__(self, config: GPTBigCodeConfig):\n",
      "        super().__init__()\n",
      "        self.config = config\n",
      "        self.transformer = GPTBigCodeModel(config)\n",
      "        # TODO(zhuohan): create a new weight after implementing pipeline\n",
      "        #                parallelism\n",
      "        self.lm_head_weight = self.transformer.wte.weight\n",
      "        self.sampler = Sampler(config.vocab_size)\n",
      "\n",
      "    def forward(\n",
      "        self,\n",
      "        input_ids: torch.Tensor,\n",
      "        positions: torch.Tensor,\n",
      "        kv_caches: List[KVCache],\n",
      "        input_metadata: InputMetadata,\n",
      "        cache_events: Optional[List[torch.cuda.Event]],\n",
      "    ) -> SamplerOutput:\n",
      "        hidden_states = self.transformer(input_ids, positions, kv_caches,\n",
      "                                         input_metadata, cache_events)\n",
      "        next_tokens = self.sampler(self.lm_head_weight, hidden_states,\n",
      "                                   input_metadata)\n",
      "        return next_tokens\n",
      "\n",
      "    _column_parallel_weights = [\"c_fc.weight\", \"c_fc.bias\"]\n",
      "    _row_parallel_weights = [\"c_proj.weight\"]\n",
      "\n",
      "    def load_weights(self,\n",
      "                     model_name_or_path: str,\n",
      "                     cache_dir: Optional[str] = None,\n",
      "                     load_format: str = \"auto\",\n",
      "                     revision: Optional[str] = None):\n",
      "        tensor_model_parallel_world_size = (\n",
      "            get_tensor_model_parallel_world_size())\n",
      "        tensor_model_parallel_rank = get_tensor_model_parallel_rank()\n",
      "        state_dict = self.state_dict()\n",
      "\n",
      "        for name, loaded_weight in hf_model_weights_iterator(\n",
      "                model_name_or_path, cache_dir, load_format, revision):\n",
      "            if \"lm_head.weight\" in name:\n",
      "                # GPT-2 ties the weights of the embedding layer and the final\n",
      "                # linear layer.\n",
      "                continue\n",
      "            if \".attn.bias\" in name:\n",
      "                # Skip attention mask.\n",
      "                # NOTE: \"c_attn.bias\" should not be skipped.\n",
      "                continue\n",
      "\n",
      "            if not name.startswith(\"transformer.\"):\n",
      "                name = \"transformer.\" + name\n",
      "\n",
      "            # For the fused QKV linear layer, manually shard the weights.\n",
      "            if \"c_attn\" in name:\n",
      "                # GPT-2's fused QKV has the shape of\n",
      "                # [3 * num_heads * head_size, hidden_size].\n",
      "                # When tensor parallelism is used, we shard the weights along\n",
      "                # the head dimension.\n",
      "                total_num_heads = self.config.num_attention_heads\n",
      "                total_num_kv_heads = (1 if self.config.multi_query else\n",
      "                                      total_num_heads)\n",
      "                hidden_size = self.config.hidden_size\n",
      "                head_size = hidden_size // total_num_heads\n",
      "                total_kv_size = head_size * total_num_kv_heads\n",
      "                num_heads = total_num_heads // tensor_model_parallel_world_size\n",
      "                head_start = tensor_model_parallel_rank * num_heads\n",
      "                head_end = (tensor_model_parallel_rank + 1) * num_heads\n",
      "\n",
      "                loaded_weight = convert_pyslice_to_tensor(loaded_weight)\n",
      "                wq, wk, wv = torch.split(\n",
      "                    loaded_weight, [hidden_size, total_kv_size, total_kv_size],\n",
      "                    dim=0)\n",
      "\n",
      "                wq = wq[head_size * head_start:head_size * head_end]\n",
      "                if not self.config.multi_query:\n",
      "                    # Split the heads when using normal multi-head attention\n",
      "                    wk = wk[head_size * head_start:head_size * head_end]\n",
      "                    wv = wv[head_size * head_start:head_size * head_end]\n",
      "                    loaded_weight = torch.cat([wq, wk, wv], dim=0)\n",
      "                else:\n",
      "                    # For multi-query attention, we split the query\n",
      "                    # but replicate the key and value.\n",
      "                    loaded_weight_q = wq\n",
      "                    loaded_weight_kv = torch.cat([wk, wv], dim=0)\n",
      "                    q_weight_name = name.replace(\"c_attn\", \"c_attn_q\")\n",
      "                    kv_weight_name = name.replace(\"c_attn\", \"c_attn_kv\")\n",
      "                    load_tensor_parallel_weights(state_dict[q_weight_name],\n",
      "                                                 loaded_weight_q,\n",
      "                                                 q_weight_name,\n",
      "                                                 self._column_parallel_weights,\n",
      "                                                 self._row_parallel_weights,\n",
      "                                                 tensor_model_parallel_rank)\n",
      "                    load_tensor_parallel_weights(state_dict[kv_weight_name],\n",
      "                                                 loaded_weight_kv,\n",
      "                                                 kv_weight_name,\n",
      "                                                 self._column_parallel_weights,\n",
      "                                                 self._row_parallel_weights,\n",
      "                                                 tensor_model_parallel_rank)\n",
      "                    continue\n",
      "\n",
      "            param = state_dict[name]\n",
      "\n",
      "            if name == \"transformer.wte.weight\":\n",
      "                load_padded_tensor_parallel_vocab(param, loaded_weight,\n",
      "                                                  tensor_model_parallel_rank)\n",
      "                continue\n",
      "\n",
      "            load_tensor_parallel_weights(param, loaded_weight, name,\n",
      "                                         self._column_parallel_weights,\n",
      "                                         self._row_parallel_weights,\n",
      "                                         tensor_model_parallel_rank)\n",
      "<<End File>>\n"
     ]
    }
   ],
   "source": [
    "print(stuff(file))"
   ]
  },
  {
   "cell_type": "code",
   "execution_count": 16,
   "id": "6c54825f-2838-4c7d-9ba6-78c069f7cd00",
   "metadata": {
    "tags": []
   },
   "outputs": [
    {
     "data": {
      "application/vnd.jupyter.widget-view+json": {
       "model_id": "7d982baccc4a4894b0fa0a917a3c6d87",
       "version_major": 2,
       "version_minor": 0
      },
      "text/plain": [
       "  0%|          | 0/96 [00:00<?, ?it/s]"
      ]
     },
     "metadata": {},
     "output_type": "display_data"
    }
   ],
   "source": [
    "import json\n",
    "from tqdm.auto import tqdm\n",
    "\n",
    "with open('vllm_python.jsonl', 'w') as json_file:\n",
    "    for file in tqdm(py_files):\n",
    "        data = stuff(file)\n",
    "        json.dump({\"text\":data}, json_file)\n",
    "        json_file.write('\\n')"
   ]
  },
  {
   "cell_type": "code",
   "execution_count": 17,
   "id": "1d4a5736-7348-4d5a-a6ea-d523f1fa54ca",
   "metadata": {
    "tags": []
   },
   "outputs": [],
   "source": [
    "import wandb"
   ]
  },
  {
   "cell_type": "code",
   "execution_count": 18,
   "id": "92e53721-dd33-4982-9967-af0c07130742",
   "metadata": {
    "tags": []
   },
   "outputs": [
    {
     "name": "stderr",
     "output_type": "stream",
     "text": [
      "Failed to detect the name of this notebook, you can set it manually with the WANDB_NOTEBOOK_NAME environment variable to enable code saving.\n",
      "\u001b[34m\u001b[1mwandb\u001b[0m: Currently logged in as: \u001b[33mcapecape\u001b[0m. Use \u001b[1m`wandb login --relogin`\u001b[0m to force relogin\n"
     ]
    },
    {
     "data": {
      "text/html": [
       "wandb version 0.15.10 is available!  To upgrade, please run:\n",
       " $ pip install wandb --upgrade"
      ],
      "text/plain": [
       "<IPython.core.display.HTML object>"
      ]
     },
     "metadata": {},
     "output_type": "display_data"
    },
    {
     "data": {
      "text/html": [
       "Tracking run with wandb version 0.15.9"
      ],
      "text/plain": [
       "<IPython.core.display.HTML object>"
      ]
     },
     "metadata": {},
     "output_type": "display_data"
    },
    {
     "data": {
      "text/html": [
       "Run data is saved locally in <code>/Users/tcapelle/work/vvlm_llm/wandb/run-20230918_155727-krxpp89l</code>"
      ],
      "text/plain": [
       "<IPython.core.display.HTML object>"
      ]
     },
     "metadata": {},
     "output_type": "display_data"
    },
    {
     "data": {
      "text/html": [
       "Syncing run <strong><a href='https://wandb.ai/capecape/vllm_llm/runs/krxpp89l' target=\"_blank\">magic-spaceship-1</a></strong> to <a href='https://wandb.ai/capecape/vllm_llm' target=\"_blank\">Weights & Biases</a> (<a href='https://wandb.me/run' target=\"_blank\">docs</a>)<br/>"
      ],
      "text/plain": [
       "<IPython.core.display.HTML object>"
      ]
     },
     "metadata": {},
     "output_type": "display_data"
    },
    {
     "data": {
      "text/html": [
       " View project at <a href='https://wandb.ai/capecape/vllm_llm' target=\"_blank\">https://wandb.ai/capecape/vllm_llm</a>"
      ],
      "text/plain": [
       "<IPython.core.display.HTML object>"
      ]
     },
     "metadata": {},
     "output_type": "display_data"
    },
    {
     "data": {
      "text/html": [
       " View run at <a href='https://wandb.ai/capecape/vllm_llm/runs/krxpp89l' target=\"_blank\">https://wandb.ai/capecape/vllm_llm/runs/krxpp89l</a>"
      ],
      "text/plain": [
       "<IPython.core.display.HTML object>"
      ]
     },
     "metadata": {},
     "output_type": "display_data"
    },
    {
     "data": {
      "text/html": [
       "Waiting for W&B process to finish... <strong style=\"color:green\">(success).</strong>"
      ],
      "text/plain": [
       "<IPython.core.display.HTML object>"
      ]
     },
     "metadata": {},
     "output_type": "display_data"
    },
    {
     "data": {
      "text/html": [
       " View run <strong style=\"color:#cdcd00\">magic-spaceship-1</strong> at: <a href='https://wandb.ai/capecape/vllm_llm/runs/krxpp89l' target=\"_blank\">https://wandb.ai/capecape/vllm_llm/runs/krxpp89l</a><br/>Synced 5 W&B file(s), 0 media file(s), 1 artifact file(s) and 1 other file(s)"
      ],
      "text/plain": [
       "<IPython.core.display.HTML object>"
      ]
     },
     "metadata": {},
     "output_type": "display_data"
    },
    {
     "data": {
      "text/html": [
       "Find logs at: <code>./wandb/run-20230918_155727-krxpp89l/logs</code>"
      ],
      "text/plain": [
       "<IPython.core.display.HTML object>"
      ]
     },
     "metadata": {},
     "output_type": "display_data"
    }
   ],
   "source": [
    "with wandb.init(project=\"vllm_llm\"):\n",
    "    at = wandb.Artifact(name=\"vllm_python\", \n",
    "                        description=\"The .py files from the vllm library\",\n",
    "                        type=\"dataset\",\n",
    "                        metadata={\n",
    "                            \"url\": \"https://github.com/vllm-project/vllm.git\",\n",
    "                            \"commit\":last_commit,\n",
    "                            \"remote\": weave_repo.remote().url})\n",
    "    at.add_file(\"vllm_python.jsonl\")\n",
    "    \n",
    "    wandb.log_artifact(at)"
   ]
  }
 ],
 "metadata": {
  "kernelspec": {
   "display_name": "Python 3 (ipykernel)",
   "language": "python",
   "name": "python3"
  },
  "language_info": {
   "codemirror_mode": {
    "name": "ipython",
    "version": 3
   },
   "file_extension": ".py",
   "mimetype": "text/x-python",
   "name": "python",
   "nbconvert_exporter": "python",
   "pygments_lexer": "ipython3",
   "version": "3.10.9"
  }
 },
 "nbformat": 4,
 "nbformat_minor": 5
}
